{
  "nbformat": 4,
  "nbformat_minor": 0,
  "metadata": {
    "colab": {
      "name": "SWDF Study Session #1.ipynb",
      "provenance": [],
      "collapsed_sections": []
    },
    "kernelspec": {
      "name": "python3",
      "display_name": "Python 3"
    },
    "language_info": {
      "name": "python"
    }
  },
  "cells": [
    {
      "cell_type": "markdown",
      "source": [
        "# Control Flow Review"
      ],
      "metadata": {
        "id": "gX95aHX272ZB"
      }
    },
    {
      "cell_type": "code",
      "source": [
        "result = False\n",
        "\n",
        "if(result):\n",
        "  print(\"We entered the loop body because the value of RESULT is True!\")"
      ],
      "metadata": {
        "id": "gQrEzMk5J5pP"
      },
      "execution_count": null,
      "outputs": []
    },
    {
      "cell_type": "code",
      "source": [
        "myGrade = input(\"Enter your grade: \")\n",
        "myGrade = int(myGrade)\n",
        "\n",
        "if(myGrade > 90):\n",
        "  print(\"A\")\n",
        "elif(myGrade > 80):\n",
        "  print(\"B\")\n",
        "elif(myGrade > 70):\n",
        "  print(\"C\")\n",
        "elif(myGrade > 60):\n",
        "  print(\"D\")\n",
        "else:\n",
        "  print(\"Failed\")"
      ],
      "metadata": {
        "id": "sMupoMtK8s4_",
        "colab": {
          "base_uri": "https://localhost:8080/"
        },
        "outputId": "8b8d5d5f-2c84-4096-b1c2-220b9ad476a5"
      },
      "execution_count": null,
      "outputs": [
        {
          "output_type": "stream",
          "name": "stdout",
          "text": [
            "Enter your grade: 73\n",
            "C\n"
          ]
        }
      ]
    },
    {
      "cell_type": "code",
      "execution_count": null,
      "metadata": {
        "id": "qT1nZJGJ7ypz"
      },
      "outputs": [],
      "source": [
        "# Notice that one line uses print, the other uses input. Why?\n",
        "print(\"Would you like Sides w/ your Meal?\")\n",
        "answer = input(\"Enter 'yes' or 'no': \")\n",
        "\n",
        "if(answer == \"yes\"):\n",
        "# if(True):\n",
        "  \n",
        "  # Show Sides Menu\n",
        "  print(\"Great, please select from one of the following options:\")\n",
        "  print(\"fried eggs\")\n",
        "  print(\"sausage\")\n",
        "  print(\"bacon\")\n",
        "  answer = input(\"Enter your desired side: \")\n",
        "\n",
        "  # If Bacon and Eggs were selected...\n",
        "  if(answer == \"fried eggs\" or answer == \"bacon\"):\n",
        "    amount = input(\"How many would you like with your meal: \")\n",
        "    print(f\"Okay, we'll deliver your meal with {amount} side(s) of {answer}\")\n",
        "\n",
        "  # Otherwise if Sausage was selected\n",
        "  elif(answer == \"sausage\"):\n",
        "    print(\"By default it's Pork Sausage, would you like to substitute it for Turkey Sausage?\")\n",
        "    sausageType = input(\"Enter 'yes' or 'no': \")\n",
        "    if(sausageType == \"yes\"):\n",
        "      print(\"Okay, we'll deliver your meal with Turkey Sausage\")\n",
        "    else:\n",
        "      print(\"Great, we'll deliver your meal with Pork Sausage\")\n",
        "\n",
        "else:\n",
        "  print(\"Okay, we'll deliver just the meal\")"
      ]
    },
    {
      "cell_type": "markdown",
      "source": [
        "# Errors & While Loops"
      ],
      "metadata": {
        "id": "7PoXPtHP8znv"
      }
    },
    {
      "cell_type": "code",
      "source": [
        "myGrade = \"\"\n",
        "\n",
        "while(not myGrade.isdigit()):\n",
        "  myGrade = input(\"Enter your grade: \")\n",
        "myGrade = int(myGrade)\n",
        "\n",
        "if(myGrade > 90):\n",
        "  print(\"A\")\n",
        "elif(myGrade > 80):\n",
        "  print(\"B\")\n",
        "elif(myGrade > 70):\n",
        "  print(\"C\")\n",
        "else:\n",
        "  print(\"Failed\")"
      ],
      "metadata": {
        "id": "K2YmIwWY80dM"
      },
      "execution_count": null,
      "outputs": []
    },
    {
      "cell_type": "markdown",
      "source": [
        "## Example: Candy Factory\n",
        "\n",
        "Suppose that you run a candy factory that offers three types of candy: lollipops, gummy bears, and cotton candy.\n",
        "\n",
        "You also have five different flavor mixtures: chocolate, raspberry, apple, grape, and banana.\n",
        "\n",
        "Your factory is advanced enough that any flavor can be made into any type of candy. Since the flavors and types of candy you can make are growing steadily over time, you want to create a program that can display all of the possible flavor-candy combinations that you're capable of making.\n",
        "\n",
        "How would we use a `for` loop to do this?\n",
        "\n",
        "We wouldn't use _a_ `for` loop, we'd use _two_. Yes, just like with `if` statements, you can _nest loops_ as well.\n",
        "\n",
        "But we're getting ahead of ourselves. Remember: the first step is to do the bare minimum needed to progress and test. So, let's start by displaying each _type_ of candy we offer, using a Tuple and a `for` loop:"
      ],
      "metadata": {
        "id": "viBRauAtI9q6"
      }
    },
    {
      "cell_type": "markdown",
      "source": [
        "Review Method:"
      ],
      "metadata": {
        "id": "-R_Uz_x-PVa8"
      }
    },
    {
      "cell_type": "code",
      "source": [
        "# Need a list of flavors and candy types to work with\n",
        "\n",
        "# Write down each flavor once for the first candy type\n",
        "\n",
        "# Repeat this all candy types"
      ],
      "metadata": {
        "id": "lny81Vl-O3-Q"
      },
      "execution_count": null,
      "outputs": []
    },
    {
      "cell_type": "code",
      "source": [
        "# Need a list of flavors and candy types to work with\n",
        "candy_types = (\"Lollipop\", \"Gummy Bear\", \"Cotton Candy\")\n",
        "flavors = (\"Banana\", \"Apple\", \"Grape\", \"Raspberry\", \"Chocolate\")\n",
        "\n",
        "# Write down each flavor once for the first candy type\n",
        "\n",
        "# Repeat this all candy types"
      ],
      "metadata": {
        "id": "u7ZuDsuaQtZV"
      },
      "execution_count": null,
      "outputs": []
    },
    {
      "cell_type": "code",
      "source": [
        "# Need a list of flavors and candy types to work with\n",
        "candy_types = (\"Lollipop\", \"Gummy Bear\", \"Cotton Candy\")\n",
        "flavors = (\"Banana\", \"Apple\", \"Grape\", \"Raspberry\", \"Chocolate\")\n",
        "\n",
        "# Write down each flavor once for the first candy type\n",
        "for flavor in flavors:\n",
        "  candy = candy_types[0]\n",
        "  print(f\"{flavor} {candy}\")\n",
        "\n",
        "# Repeat this all candy types"
      ],
      "metadata": {
        "id": "-FORQDKTPYM6"
      },
      "execution_count": null,
      "outputs": []
    },
    {
      "cell_type": "code",
      "source": [
        "for flavor in flavors:\n",
        "  candy = # This right here is what should be changing...\n",
        "  print(f\"{flavor} {candy}\")"
      ],
      "metadata": {
        "id": "Adl0NVIAQ1Iw"
      },
      "execution_count": null,
      "outputs": []
    },
    {
      "cell_type": "code",
      "source": [
        "# Need a list of flavors and candy types to work with\n",
        "candy_types = (\"Lollipop\", \"Gummy Bear\", \"Cotton Candy\")\n",
        "flavors = (\"Banana\", \"Apple\", \"Grape\", \"Raspberry\", \"Chocolate\")\n",
        "\n",
        "# Write down each flavor once for the first candy type\n",
        "for candy in candy_types:\n",
        "  for flavor in flavors:\n",
        "    print(f\"{flavor} {candy}\")\n",
        "\n",
        "  # Once we're done looping through the possible flavors, print a blank line\n",
        "  print()"
      ],
      "metadata": {
        "colab": {
          "base_uri": "https://localhost:8080/"
        },
        "id": "O8L-1TRJQwOS",
        "outputId": "3018e68f-b0c2-4cf3-c845-3645cc1bd1fc"
      },
      "execution_count": null,
      "outputs": [
        {
          "output_type": "stream",
          "name": "stdout",
          "text": [
            "Banana Lollipop\n",
            "Apple Lollipop\n",
            "Grape Lollipop\n",
            "Raspberry Lollipop\n",
            "Chocolate Lollipop\n",
            "\n",
            "Banana Gummy Bear\n",
            "Apple Gummy Bear\n",
            "Grape Gummy Bear\n",
            "Raspberry Gummy Bear\n",
            "Chocolate Gummy Bear\n",
            "\n",
            "Banana Cotton Candy\n",
            "Apple Cotton Candy\n",
            "Grape Cotton Candy\n",
            "Raspberry Cotton Candy\n",
            "Chocolate Cotton Candy\n",
            "\n"
          ]
        }
      ]
    },
    {
      "cell_type": "code",
      "source": [
        "# Need a list of flavors and candy types to work with\n",
        "candy_types = (\"Lollipop\", \"Gummy Bear\", \"Cotton Candy\", \"Candy Cane\", \"Jello Cups\")\n",
        "flavors = (\"Banana\", \"Apple\", \"Grape\", \"Raspberry\", \"Chocolate\", \"Orange\", \"Fruit Punch\")\n",
        "\n",
        "# Write down each flavor once for the first candy type\n",
        "for candy in candy_types:\n",
        "  for flavor in flavors:\n",
        "    print(f\"{flavor} {candy}\")\n",
        "\n",
        "  # Once we're done looping through the possible flavors, print a blank line\n",
        "  print()"
      ],
      "metadata": {
        "id": "DihQ0RPUSDdK"
      },
      "execution_count": null,
      "outputs": []
    },
    {
      "cell_type": "markdown",
      "source": [
        "Old Method:"
      ],
      "metadata": {
        "id": "WTCzz-8yPUh1"
      }
    },
    {
      "cell_type": "code",
      "source": [
        "candy_types = (\"Lollipop\", \"Gummy Bear\", \"Cotton Candy\")\n",
        "\n",
        "for candy in candy_types:\n",
        "  print(candy)"
      ],
      "metadata": {
        "id": "Kq-RtyHoJNSP",
        "colab": {
          "base_uri": "https://localhost:8080/"
        },
        "outputId": "66c9132d-104b-419d-d48b-16e68cb5a22c"
      },
      "execution_count": null,
      "outputs": [
        {
          "output_type": "stream",
          "name": "stdout",
          "text": [
            "Lollipop\n",
            "Gummy Bear\n",
            "Cotton Candy\n"
          ]
        }
      ]
    },
    {
      "cell_type": "markdown",
      "source": [
        "This code cell should give you the following list:\n",
        "\n",
        "```\n",
        "Lollipop\n",
        "Gummy Bear\n",
        "Cotton Candy\n",
        "```\n",
        "\n",
        "This is a great start. Before we continue, let's make sure we're understanding the problem. Our goal is to display each candy and flavor combination on it's own line, like so:\n",
        "\n",
        "```\n",
        "Banana Lollipop\n",
        "Apple Lollipop\n",
        "Grape Lollipop\n",
        "...\n",
        "...\n",
        "...\n",
        "Grape Cotton Candy\n",
        "Raspberry Cotton Candy\n",
        "Chocolate Cotton Candy\n",
        "```\n",
        "\n",
        "_(Note that not all combinations are shown in the example above, but just the overall pattern. Also, the order of the flavors/candy types do not matter, so long as they are all listed)_\n",
        "\n",
        "And _no_, we are _not_ going to make each individual combination it's own entry in the Tuple. This would exponentinally become harder to keep up with as we add flavors and candy types.\n",
        "\n",
        "So how do we combine them together? It's not straightforward, so let's try something more familiar - listing all of the flavors as well. We'll do this, temporarily, below the list of candy types:"
      ],
      "metadata": {
        "id": "q73Spp5vM_SA"
      }
    },
    {
      "cell_type": "code",
      "source": [
        "candy_types = (\"Lollipop\", \"Gummy Bear\", \"Cotton Candy\")\n",
        "flavors = (\"Banana\", \"Apple\", \"Grape\", \"Raspberry\", \"Chocolate\")\n",
        "\n",
        "for candy in candy_types:\n",
        "  print(candy)\n",
        "\n",
        "for flavor in flavors:\n",
        "  print(flavor)"
      ],
      "metadata": {
        "id": "lj0P66WJNwz1",
        "colab": {
          "base_uri": "https://localhost:8080/"
        },
        "outputId": "e17d2e42-d13a-4830-9e90-90ed837d7409"
      },
      "execution_count": null,
      "outputs": [
        {
          "output_type": "stream",
          "name": "stdout",
          "text": [
            "Lollipop\n",
            "Gummy Bear\n",
            "Cotton Candy\n",
            "Banana\n",
            "Apple\n",
            "Grape\n",
            "Raspberry\n",
            "Chocolate\n"
          ]
        }
      ]
    },
    {
      "cell_type": "markdown",
      "source": [
        "That gives us this list:\n",
        "\n",
        "```\n",
        "Lollipop\n",
        "Gummy Bear\n",
        "Cotton Candy\n",
        "Banana\n",
        "Apple\n",
        "Grape\n",
        "Raspberry\n",
        "Chocolate\n",
        "```\n",
        "\n",
        "So we're on the right track. Remember, it doesn't cost or harm anything to _try_ something experimental, so what if we move the second loop (the one with the flavors) _inside_ the first loop (the one with the candy types) and see what happens:"
      ],
      "metadata": {
        "id": "M-GkdxpmN6Fe"
      }
    },
    {
      "cell_type": "code",
      "source": [
        "candy_types = (\"Lollipop\", \"Gummy Bear\", \"Cotton Candy\")\n",
        "flavors = (\"Banana\", \"Apple\", \"Grape\", \"Raspberry\", \"Chocolate\")\n",
        "\n",
        "for candy in candy_types:\n",
        "  print(candy)\n",
        "\n",
        "  # To move it inside, we added indentation to both lines of code\n",
        "  # It's important to ensure line 10 gets indented again, or it won't run properly\n",
        "  for flavor in flavors:\n",
        "    print(flavor)"
      ],
      "metadata": {
        "id": "PNv3yC0aOFqd",
        "colab": {
          "base_uri": "https://localhost:8080/"
        },
        "outputId": "f8e044c2-1906-43dc-fd17-51aa7bafe367"
      },
      "execution_count": null,
      "outputs": [
        {
          "output_type": "stream",
          "name": "stdout",
          "text": [
            "Lollipop\n",
            "Banana\n",
            "Apple\n",
            "Grape\n",
            "Raspberry\n",
            "Chocolate\n",
            "Gummy Bear\n",
            "Banana\n",
            "Apple\n",
            "Grape\n",
            "Raspberry\n",
            "Chocolate\n",
            "Cotton Candy\n",
            "Banana\n",
            "Apple\n",
            "Grape\n",
            "Raspberry\n",
            "Chocolate\n"
          ]
        }
      ]
    },
    {
      "cell_type": "markdown",
      "source": [
        "Ahh, a pattern is emerging! Take a look at the list it gives us now:\n",
        "\n",
        "```\n",
        "Lollipop\n",
        "Banana\n",
        "Apple\n",
        "Grape\n",
        "Raspberry\n",
        "Chocolate\n",
        "Gummy Bear\n",
        "Banana\n",
        "Apple\n",
        "Grape\n",
        "Raspberry\n",
        "Chocolate\n",
        "Cotton Candy\n",
        "Banana\n",
        "Apple\n",
        "Grape\n",
        "Raspberry\n",
        "Chocolate\n",
        "```\n",
        "\n",
        "For each candy type (of which there are three) it now gives us all five flavors. So, each flavor gets listed three times.\n",
        "\n",
        "The list is very \"squished\" together so it's not clear to read. Let's add two blank lines: one between each candy type (end of the outer loop) and one before the list of flavors (before the inner loop). Recall that to generate an empty line, you call the `print()` function without any parameters."
      ],
      "metadata": {
        "id": "qMkWkN_0OVDK"
      }
    },
    {
      "cell_type": "code",
      "source": [
        "candy_types = (\"Lollipop\", \"Gummy Bear\", \"Cotton Candy\")\n",
        "flavors = (\"Banana\", \"Apple\", \"Grape\", \"Raspberry\", \"Chocolate\")\n",
        "\n",
        "for candy in candy_types: # Runs 3 times\n",
        "  print(candy)\n",
        "\n",
        "  # Separate Candy type from Flavors\n",
        "  print()\n",
        "\n",
        "  # To move it inside, we added indentation to both lines of code\n",
        "  # It's important to ensure line 10 gets indented again, or it won't run properly\n",
        "  for flavor in flavors: # Runs 5 times, but we run the whole loop 3 times\n",
        "    print(flavor)\n",
        "\n",
        "  # Separate Flavors from next Candy Type\n",
        "  print()"
      ],
      "metadata": {
        "colab": {
          "base_uri": "https://localhost:8080/"
        },
        "id": "CwjmjCJeOr0O",
        "outputId": "cbac17b2-fa61-4f5b-ae7e-bf1e666fceb3"
      },
      "execution_count": null,
      "outputs": [
        {
          "output_type": "stream",
          "name": "stdout",
          "text": [
            "Lollipop\n",
            "\n",
            "Banana\n",
            "Apple\n",
            "Grape\n",
            "Raspberry\n",
            "Chocolate\n",
            "\n",
            "Gummy Bear\n",
            "\n",
            "Banana\n",
            "Apple\n",
            "Grape\n",
            "Raspberry\n",
            "Chocolate\n",
            "\n",
            "Cotton Candy\n",
            "\n",
            "Banana\n",
            "Apple\n",
            "Grape\n",
            "Raspberry\n",
            "Chocolate\n",
            "\n"
          ]
        }
      ]
    },
    {
      "cell_type": "markdown",
      "source": [
        "This list looks extremely readable. For each candy type, we can clearly see all five flavors being displayed. So now, let's see if we can get rid of the types being on their own line, and add them to each flavor's line.\n",
        "\n",
        "To do this, we'll be using f-strings:"
      ],
      "metadata": {
        "id": "Jh5z2NW9PKj9"
      }
    },
    {
      "cell_type": "code",
      "source": [
        "candy_types = (\"Lollipop\", \"Gummy Bear\", \"Cotton Candy\")\n",
        "flavors = (\"Banana\", \"Apple\", \"Grape\", \"Raspberry\", \"Chocolate\")\n",
        "\n",
        "for candy in candy_types:\n",
        "\n",
        "  for flavor in flavors:\n",
        "    print(f\"{flavor} {candy}\")\n",
        "    #print(flavor, end=\" \")\n",
        "    #print(candy)\n",
        "\n",
        "  # Separate Flavors from next Candy Type\n",
        "  print()"
      ],
      "metadata": {
        "id": "oVo9smXfPTMQ",
        "colab": {
          "base_uri": "https://localhost:8080/"
        },
        "outputId": "8d9701f0-f5c0-4a8d-c8f4-8895ea2c0d31"
      },
      "execution_count": null,
      "outputs": [
        {
          "output_type": "stream",
          "name": "stdout",
          "text": [
            "Banana Lollipop\n",
            "Apple Lollipop\n",
            "Grape Lollipop\n",
            "Raspberry Lollipop\n",
            "Chocolate Lollipop\n",
            "\n",
            "Banana Gummy Bear\n",
            "Apple Gummy Bear\n",
            "Grape Gummy Bear\n",
            "Raspberry Gummy Bear\n",
            "Chocolate Gummy Bear\n",
            "\n",
            "Banana Cotton Candy\n",
            "Apple Cotton Candy\n",
            "Grape Cotton Candy\n",
            "Raspberry Cotton Candy\n",
            "Chocolate Cotton Candy\n",
            "\n"
          ]
        }
      ]
    },
    {
      "cell_type": "markdown",
      "source": [
        "And just like that, we nested two loops together to generate our full list of candy. Watch how easy this code is to maintain, just try adding a type of candy:"
      ],
      "metadata": {
        "id": "uIi6ZAk9Pcbo"
      }
    },
    {
      "cell_type": "code",
      "source": [
        "candy_types = (\"Lollipop\", \"Gummy Bear\", \"Cotton Candy\", \"Licorice\")\n",
        "flavors = (\"Banana\", \"Apple\", \"Grape\", \"Raspberry\", \"Chocolate\", \"Blue Raspberry\", \"Strawberry\", \"Pineapple\")\n",
        "\n",
        "for candy in candy_types:\n",
        "\n",
        "  for flavor in flavors:\n",
        "    print(f\"{flavor} {candy}\")\n",
        "\n",
        "  # Separate Flavors from next Candy Type\n",
        "  print()"
      ],
      "metadata": {
        "colab": {
          "base_uri": "https://localhost:8080/"
        },
        "id": "1GaJMyYkPjEf",
        "outputId": "f93ed6d5-ffe2-4cc0-f0a4-a736739540e4"
      },
      "execution_count": null,
      "outputs": [
        {
          "output_type": "stream",
          "name": "stdout",
          "text": [
            "Banana Lollipop\n",
            "Apple Lollipop\n",
            "Grape Lollipop\n",
            "Raspberry Lollipop\n",
            "Chocolate Lollipop\n",
            "Blue Raspberry Lollipop\n",
            "Strawberry Lollipop\n",
            "Pineapple Lollipop\n",
            "\n",
            "Banana Gummy Bear\n",
            "Apple Gummy Bear\n",
            "Grape Gummy Bear\n",
            "Raspberry Gummy Bear\n",
            "Chocolate Gummy Bear\n",
            "Blue Raspberry Gummy Bear\n",
            "Strawberry Gummy Bear\n",
            "Pineapple Gummy Bear\n",
            "\n",
            "Banana Cotton Candy\n",
            "Apple Cotton Candy\n",
            "Grape Cotton Candy\n",
            "Raspberry Cotton Candy\n",
            "Chocolate Cotton Candy\n",
            "Blue Raspberry Cotton Candy\n",
            "Strawberry Cotton Candy\n",
            "Pineapple Cotton Candy\n",
            "\n",
            "Banana Licorice\n",
            "Apple Licorice\n",
            "Grape Licorice\n",
            "Raspberry Licorice\n",
            "Chocolate Licorice\n",
            "Blue Raspberry Licorice\n",
            "Strawberry Licorice\n",
            "Pineapple Licorice\n",
            "\n"
          ]
        }
      ]
    },
    {
      "cell_type": "markdown",
      "source": [
        "Just by adding a _single_ entry into the `candy_types` tuple, your program generates an additional _five lines_ of candy options!"
      ],
      "metadata": {
        "id": "yoKu9ky7Po1M"
      }
    },
    {
      "cell_type": "markdown",
      "metadata": {
        "id": "AQU0CslLDO51"
      },
      "source": [
        "# Example: Partnering Up\n",
        "\n",
        "We're going to work through a complicated problem together to illustrate the power of lists.\n",
        "\n",
        "The problem we're going to solve is to create a program that generates a list of all possible combinations of students in a class, to help a teacher determine who could be partnered with who.\n",
        "\n",
        "For example, if we have a class with the students Jeff, John, and Jennifer, then we might show something like this:\n",
        "\n",
        "```\n",
        "John and Jeff\n",
        "John and Jennifer\n",
        "Jeff and Jennifer\n",
        "```\n",
        "\n",
        "This program is going to do the following:\n",
        "\n",
        "* Ask the user to enter four names\n",
        "* Walk through the list of names using two loops\n",
        "* Add each combination of students to a new list\n",
        "* Make sure nothing gets repeated\n",
        "* Display each combination of students"
      ]
    },
    {
      "cell_type": "markdown",
      "metadata": {
        "id": "Lwd_E-p2HHMD"
      },
      "source": [
        "The first step to tackling this problem is getting the names from the user.\n",
        "\n",
        "We know that we need exactly four names, and we don't need to do any validation on them. So, let's use a `for` loop:"
      ]
    },
    {
      "cell_type": "code",
      "metadata": {
        "id": "d0i8jblwHUxv"
      },
      "source": [
        "# This List will hold each student's name\n",
        "students = []\n",
        "\n",
        "# This loop takes in four students' names\n",
        "for i in range(0, 4):\n",
        "\n",
        "  # Ask the user for the student's name\n",
        "  studentName = input(\"Enter a student's name: \")\n",
        "\n",
        "  # Add it to the list of students\n",
        "  students.append(studentName)\n",
        "\n",
        "# TEMPORARY: To test that this worked, I'm going to print out the list of students\n",
        "print(students)"
      ],
      "execution_count": null,
      "outputs": []
    },
    {
      "cell_type": "markdown",
      "metadata": {
        "id": "RXtLODOSHvk3"
      },
      "source": [
        "If the code above looks intimidating, remember that more than half of it is made up of comments and whitespace. It really just looks like this:"
      ]
    },
    {
      "cell_type": "code",
      "metadata": {
        "id": "sW8IxFmlH1RK"
      },
      "source": [
        "students = []\n",
        "for i in range(0, 4):\n",
        "  studentName = input(\"Enter a student's name: \")\n",
        "  students.append(studentName)\n",
        "\n",
        "print(students)"
      ],
      "execution_count": null,
      "outputs": []
    },
    {
      "cell_type": "markdown",
      "metadata": {
        "id": "sAFAujXwH6N5"
      },
      "source": [
        "Now that we have this piece of the puzzle, let's start working on how we're going to combine students.\n",
        "\n",
        "Think about the problem **without Python** for a moment.\n",
        "How would you do this normally? What is the **algorithm**?\n",
        "\n",
        "We would want to go through the list of students, and give each student a \"turn\". On that student's turn, we would want to go through the entire list of students _again_ to see who we can pair that student up with.\n",
        "\n",
        "For example, on \"Jeff\"'s turn, we would go through the list again and pair him up with John and Jennifer.\n",
        "\n",
        "Now let's bring in the Python.\n",
        "\n",
        "The student's \"turn\" could be thought of as an _iteration_ of a loop that goes through `students`. \n",
        "\n",
        "Then, on that \"turn\"/iteration, we need _another_ loop that _also_ goes through `students`. Why? Because this is the loop that will find the \"other student\" we want to pair up our \"current student\" (the one whose turn/iteration we're currently on) with."
      ]
    },
    {
      "cell_type": "markdown",
      "metadata": {
        "id": "5iLOk0zAI86_"
      },
      "source": [
        "That's a lot to swallow. Let's start **slowly** implementing this, starting with the outer loop that goes through each student and gives them a \"turn\" to be paired up."
      ]
    },
    {
      "cell_type": "code",
      "metadata": {
        "id": "PLU4BU32JCZW",
        "collapsed": true,
        "colab": {
          "base_uri": "https://localhost:8080/"
        },
        "outputId": "2b59750f-a32c-40dc-d686-2df72f394286"
      },
      "source": [
        "# This List will hold each student's name\n",
        "students = []\n",
        "\n",
        "######################################################\n",
        "\n",
        "# This loop takes in four students' names\n",
        "for i in range(0, 4):\n",
        "\n",
        "  # Ask the user for the student's name\n",
        "  studentName = input(\"Enter a student's name: \")\n",
        "\n",
        "  # Add it to the list of students\n",
        "  students.append(studentName)\n",
        "\n",
        "######################################################\n",
        "\n",
        "# Go through each student that we want to \"pair up\"\n",
        "for student in students:\n",
        "\n",
        "  # TEMPORARY: Add a print to test what happens on each iteration\n",
        "  print(student)"
      ],
      "execution_count": null,
      "outputs": [
        {
          "output_type": "stream",
          "name": "stdout",
          "text": [
            "Enter a student's name: Charlene\n",
            "Enter a student's name: Ken\n",
            "Enter a student's name: Barbara\n",
            "Enter a student's name: Travis\n",
            "Charlene\n",
            "Ken\n",
            "Barbara\n",
            "Travis\n"
          ]
        }
      ]
    },
    {
      "cell_type": "markdown",
      "metadata": {
        "id": "gYfIKzsTJQmd"
      },
      "source": [
        "Inside of this new loop we made, we're going to make _another_ loop that goes through each student.\n",
        "\n",
        "Then, let's print out the loop variables for each one.\n",
        "Once we do, it should quickly become obvious how this program is going to work."
      ]
    },
    {
      "cell_type": "code",
      "metadata": {
        "id": "XH7a3SBN7gqY",
        "colab": {
          "base_uri": "https://localhost:8080/"
        },
        "outputId": "1bc37098-870b-4ced-bb04-b2b5b75d48da"
      },
      "source": [
        "# This List will hold each student's name\n",
        "students = []\n",
        "\n",
        "# This loop takes in four students' names\n",
        "for i in range(0, 4):\n",
        "\n",
        "  # Ask the user for the student's name\n",
        "  studentName = input(\"Enter a student's name: \")\n",
        "\n",
        "  # Add it to the list of students\n",
        "  students.append(studentName)\n",
        "\n",
        "# Go through each student that we want to \"pair up\"\n",
        "for student in students:\n",
        "\n",
        "  # On each iteration of the outer loop, go through ALL students again to find a \"match\"\n",
        "  for otherStudent in students:\n",
        "\n",
        "    print(f'Outer Loop Value (student): {student}, Inner Loop Value (otherStudent): {otherStudent}')"
      ],
      "execution_count": null,
      "outputs": [
        {
          "output_type": "stream",
          "name": "stdout",
          "text": [
            "Enter a student's name: A\n",
            "Enter a student's name: B\n",
            "Enter a student's name: C\n",
            "Enter a student's name: D\n",
            "Outer Loop Value (student): A, Inner Loop Value (otherStudent): A\n",
            "Outer Loop Value (student): A, Inner Loop Value (otherStudent): B\n",
            "Outer Loop Value (student): A, Inner Loop Value (otherStudent): C\n",
            "Outer Loop Value (student): A, Inner Loop Value (otherStudent): D\n",
            "Outer Loop Value (student): B, Inner Loop Value (otherStudent): A\n",
            "Outer Loop Value (student): B, Inner Loop Value (otherStudent): B\n",
            "Outer Loop Value (student): B, Inner Loop Value (otherStudent): C\n",
            "Outer Loop Value (student): B, Inner Loop Value (otherStudent): D\n",
            "Outer Loop Value (student): C, Inner Loop Value (otherStudent): A\n",
            "Outer Loop Value (student): C, Inner Loop Value (otherStudent): B\n",
            "Outer Loop Value (student): C, Inner Loop Value (otherStudent): C\n",
            "Outer Loop Value (student): C, Inner Loop Value (otherStudent): D\n",
            "Outer Loop Value (student): D, Inner Loop Value (otherStudent): A\n",
            "Outer Loop Value (student): D, Inner Loop Value (otherStudent): B\n",
            "Outer Loop Value (student): D, Inner Loop Value (otherStudent): C\n",
            "Outer Loop Value (student): D, Inner Loop Value (otherStudent): D\n"
          ]
        }
      ]
    },
    {
      "cell_type": "markdown",
      "metadata": {
        "id": "6y2iYdmp7ywC"
      },
      "source": [
        "Each iteration of the innermost loop shows a pairing of two students!\n",
        "\n",
        "Now we need to add them to a new list."
      ]
    },
    {
      "cell_type": "code",
      "metadata": {
        "id": "rP_o6IqI746B",
        "colab": {
          "base_uri": "https://localhost:8080/"
        },
        "outputId": "1bf9d2a4-2e47-419f-e932-d08673122174"
      },
      "source": [
        "# This List will hold each student's name\n",
        "students = []\n",
        "\n",
        "# This list will hold each possible \"pair\" of students\n",
        "pairs = []\n",
        "\n",
        "# This loop takes in four students' names\n",
        "for i in range(0, 4):\n",
        "\n",
        "  # Ask the user for the student's name\n",
        "  studentName = input(\"Enter a student's name: \")\n",
        "\n",
        "  # Add it to the list of students\n",
        "  students.append(studentName)\n",
        "\n",
        "###########################\n",
        "\n",
        "# Go through each student that we want to \"pair up\"\n",
        "for student in students:\n",
        "\n",
        "  # On each iteration of the outer loop, go through ALL students again to find a \"match\"\n",
        "  for otherStudent in students:\n",
        "\n",
        "    # Add the pairing\n",
        "    pairs.append(f'{student} and {otherStudent}')\n",
        "\n",
        "####################\n",
        "\n",
        "# Print all possible pairs\n",
        "for pair in pairs:\n",
        "  print(pair)"
      ],
      "execution_count": null,
      "outputs": [
        {
          "output_type": "stream",
          "name": "stdout",
          "text": [
            "Enter a student's name: Samoro\n",
            "Enter a student's name: Ari\n",
            "Enter a student's name: Jen\n",
            "Enter a student's name: Charlene\n",
            "Samoro and Samoro\n",
            "Samoro and Ari\n",
            "Samoro and Jen\n",
            "Samoro and Charlene\n",
            "Ari and Samoro\n",
            "Ari and Ari\n",
            "Ari and Jen\n",
            "Ari and Charlene\n",
            "Jen and Samoro\n",
            "Jen and Ari\n",
            "Jen and Jen\n",
            "Jen and Charlene\n",
            "Charlene and Samoro\n",
            "Charlene and Ari\n",
            "Charlene and Jen\n",
            "Charlene and Charlene\n"
          ]
        }
      ]
    },
    {
      "cell_type": "markdown",
      "metadata": {
        "id": "WNJGNdlH8Yuu"
      },
      "source": [
        "With that, we've completed the basic framework of our program!\n",
        "\n",
        "But now we need to solve some issues with it.\n",
        "\n",
        "For starters, it's possible to pair someone up with themselves! That doesn't make any sense. How would we solve that?"
      ]
    },
    {
      "cell_type": "code",
      "metadata": {
        "id": "w6E5QDOt8-VO",
        "colab": {
          "base_uri": "https://localhost:8080/"
        },
        "outputId": "131694d1-c14b-4e51-e7a2-3a23bcf3f719"
      },
      "source": [
        "# This List will hold each student's name\n",
        "students = []\n",
        "\n",
        "# This list will hold each possible \"pair\" of students\n",
        "pairs = []\n",
        "\n",
        "# This loop takes in four students' names\n",
        "for i in range(0, 4):\n",
        "\n",
        "  # Ask the user for the student's name\n",
        "  studentName = input(\"Enter a student's name: \")\n",
        "\n",
        "  # Add it to the list of students\n",
        "  students.append(studentName)\n",
        "\n",
        "# Go through each student that we want to \"pair up\"\n",
        "for student in students:\n",
        "\n",
        "  # On each iteration of the outer loop, go through ALL students again to find a \"match\"\n",
        "  for otherStudent in students:\n",
        "\n",
        "    # Are they different people?\n",
        "    if(otherStudent != student):\n",
        "\n",
        "      # Add the pairing\n",
        "      pairs.append(f'{student} and {otherStudent}')\n",
        "\n",
        "# Print all possible pairs\n",
        "for pair in pairs:\n",
        "  print(pair)"
      ],
      "execution_count": null,
      "outputs": [
        {
          "output_type": "stream",
          "name": "stdout",
          "text": [
            "Enter a student's name: Barbara\n",
            "Enter a student's name: Ken\n",
            "Enter a student's name: Travis\n",
            "Enter a student's name: Ammara\n",
            "Barbara and Ken\n",
            "Barbara and Travis\n",
            "Barbara and Ammara\n",
            "Ken and Barbara\n",
            "Ken and Travis\n",
            "Ken and Ammara\n",
            "Travis and Barbara\n",
            "Travis and Ken\n",
            "Travis and Ammara\n",
            "Ammara and Barbara\n",
            "Ammara and Ken\n",
            "Ammara and Travis\n"
          ]
        }
      ]
    },
    {
      "cell_type": "markdown",
      "metadata": {
        "id": "cZgyHLht9P1U"
      },
      "source": [
        "Remember that our goal is to make pairing students up _easier_, so even though this is a sufficient solution, we could do better.\n",
        "\n",
        "Notice that your program does not distinguish between \"Person A and Person B\" and \"Person B and Person A\". Order doesn't matter when making pairs, but Python is treating them as two different scenarios.\n",
        "\n",
        "The code tells you why. This is because, so long as you aren't pairing up someone with themselves, the pair is treated as \"unique\" and added to the list.\n",
        "\n",
        "The fix might not be obvious, but it's actually pretty simple. Before adding `f'{student} and {otherStudent}'` to the list, check if `f'{otherStudent} and {student}'` is in it."
      ]
    },
    {
      "cell_type": "code",
      "metadata": {
        "id": "Xlx8leTk-GY-",
        "colab": {
          "base_uri": "https://localhost:8080/"
        },
        "outputId": "77efde0d-ee46-4406-f8ae-b084bb611dff"
      },
      "source": [
        "# This List will hold each student's name\n",
        "students = []\n",
        "\n",
        "# This list will hold each possible \"pair\" of students\n",
        "pairs = []\n",
        "\n",
        "# This loop takes in four students' names\n",
        "for i in range(0, 4):\n",
        "\n",
        "  # Ask the user for the student's name\n",
        "  studentName = input(\"Enter a student's name: \")\n",
        "\n",
        "  # Add it to the list of students\n",
        "  students.append(studentName)\n",
        "\n",
        "# Go through each student that we want to \"pair up\"\n",
        "for student in students:\n",
        "\n",
        "  # On each iteration of the outer loop, go through ALL students again to find a \"match\"\n",
        "  for otherStudent in students:\n",
        "\n",
        "    # Are they different people?\n",
        "    differentPeople = otherStudent != student\n",
        "    alreadyPairedUp = f'{otherStudent} and {student}' in pairs\n",
        "    notPairedUpYet = not alreadyPairedUp\n",
        "    if(differentPeople and notPairedUpYet):\n",
        "\n",
        "      # Add the pairing\n",
        "      pairs.append(f'{student} and {otherStudent}')\n",
        "\n",
        "# Print all possible pairs\n",
        "for pair in pairs:\n",
        "  print(pair)"
      ],
      "execution_count": null,
      "outputs": [
        {
          "output_type": "stream",
          "name": "stdout",
          "text": [
            "Enter a student's name: A\n",
            "Enter a student's name: B\n",
            "Enter a student's name: C\n",
            "Enter a student's name: D\n",
            "A and B\n",
            "A and C\n",
            "A and D\n",
            "B and C\n",
            "B and D\n",
            "C and D\n"
          ]
        }
      ]
    },
    {
      "cell_type": "markdown",
      "metadata": {
        "id": "_mnGEqm9-Y5f"
      },
      "source": [
        "And just like that, we get a short and concise list of 6 pairs. This is the top of the mountain - a legitimate program you might find in your career. And a very useful one!"
      ]
    },
    {
      "cell_type": "code",
      "source": [
        "testBoolean = False != True\n",
        "print(testBoolean)"
      ],
      "metadata": {
        "colab": {
          "base_uri": "https://localhost:8080/"
        },
        "id": "kMD-WcSnHnN5",
        "outputId": "10ef332c-8632-4649-c280-2280538b54ff"
      },
      "execution_count": null,
      "outputs": [
        {
          "output_type": "stream",
          "name": "stdout",
          "text": [
            "True\n"
          ]
        }
      ]
    },
    {
      "cell_type": "code",
      "source": [
        "canAffordMovieTicket = True\n",
        "theaterOpen = False\n",
        "\n",
        "canISeeAMovie = canAffordMovieTicket and theaterOpen\n",
        "print(canISeeAMovie)"
      ],
      "metadata": {
        "id": "LHmdkcCjH7jb"
      },
      "execution_count": null,
      "outputs": []
    },
    {
      "cell_type": "code",
      "source": [
        "# if(differentPeople and not alreadyPairedUp):\n",
        "# if(True and not False):\n",
        "# if(True and (not False)):\n",
        "# if(True and True):\n",
        "# if(True):"
      ],
      "metadata": {
        "id": "1OWAMTE6IWou"
      },
      "execution_count": null,
      "outputs": []
    }
  ]
}