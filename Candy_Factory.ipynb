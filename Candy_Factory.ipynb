{
  "nbformat": 4,
  "nbformat_minor": 0,
  "metadata": {
    "colab": {
      "name": "Candy Factory.ipynb",
      "provenance": []
    },
    "kernelspec": {
      "name": "python3",
      "display_name": "Python 3"
    },
    "language_info": {
      "name": "python"
    }
  },
  "cells": [
    {
      "cell_type": "markdown",
      "source": [
        "First I created the algorithm"
      ],
      "metadata": {
        "id": "Fb3nmXJoU2BI"
      }
    },
    {
      "cell_type": "code",
      "source": [
        "# Need a list of flavors and candy types to work with\n",
        "\n",
        "# Write down each flavor once for the first candy type\n",
        "\n",
        "# Repeat this all candy types"
      ],
      "metadata": {
        "id": "lny81Vl-O3-Q"
      },
      "execution_count": null,
      "outputs": []
    },
    {
      "cell_type": "markdown",
      "source": [
        "Then I stored the data in tuples"
      ],
      "metadata": {
        "id": "NZx1TOhkU3zT"
      }
    },
    {
      "cell_type": "code",
      "source": [
        "# Need a list of flavors and candy types to work with\n",
        "candy_types = (\"Lollipop\", \"Gummy Bear\", \"Cotton Candy\")\n",
        "flavors = (\"Banana\", \"Apple\", \"Grape\", \"Raspberry\", \"Chocolate\")\n",
        "\n",
        "# Write down each flavor once for the first candy type\n",
        "\n",
        "# Repeat this all candy types"
      ],
      "metadata": {
        "id": "u7ZuDsuaQtZV"
      },
      "execution_count": null,
      "outputs": []
    },
    {
      "cell_type": "markdown",
      "source": [
        "I tested what would happen on a single iteration, with one type of candy"
      ],
      "metadata": {
        "id": "3jrRM_VSU5cJ"
      }
    },
    {
      "cell_type": "code",
      "source": [
        "# Need a list of flavors and candy types to work with\n",
        "candy_types = (\"Lollipop\", \"Gummy Bear\", \"Cotton Candy\")\n",
        "flavors = (\"Banana\", \"Apple\", \"Grape\", \"Raspberry\", \"Chocolate\")\n",
        "\n",
        "# Write down each flavor once for the first candy type\n",
        "for flavor in flavors:\n",
        "  candy = candy_types[0]\n",
        "  print(f\"{flavor} {candy}\")\n",
        "\n",
        "# Repeat this all candy types"
      ],
      "metadata": {
        "id": "-FORQDKTPYM6"
      },
      "execution_count": null,
      "outputs": []
    },
    {
      "cell_type": "markdown",
      "source": [
        "Finally, I wrote the nested loop. It's always easier to start with one loop before nesting!"
      ],
      "metadata": {
        "id": "j9ahwdAPU9JH"
      }
    },
    {
      "cell_type": "code",
      "source": [
        "# Need a list of flavors and candy types to work with\n",
        "candy_types = (\"Lollipop\", \"Gummy Bear\", \"Cotton Candy\")\n",
        "flavors = (\"Banana\", \"Apple\", \"Grape\", \"Raspberry\", \"Chocolate\")\n",
        "\n",
        "# Write down each flavor once for the first candy type\n",
        "for candy in candy_types:\n",
        "  for flavor in flavors:\n",
        "    print(f\"{flavor} {candy}\")\n",
        "\n",
        "  # Once we're done looping through the possible flavors, print a blank line\n",
        "  print()"
      ],
      "metadata": {
        "id": "O8L-1TRJQwOS"
      },
      "execution_count": null,
      "outputs": []
    },
    {
      "cell_type": "markdown",
      "source": [
        "To test, I added flavors and types!"
      ],
      "metadata": {
        "id": "OMODQS7JVAsw"
      }
    },
    {
      "cell_type": "code",
      "source": [
        "# Need a list of flavors and candy types to work with\n",
        "candy_types = (\"Lollipop\", \"Gummy Bear\", \"Cotton Candy\", \"Candy Cane\", \"Jello Cups\")\n",
        "flavors = (\"Banana\", \"Apple\", \"Grape\", \"Raspberry\", \"Chocolate\", \"Orange\", \"Fruit Punch\")\n",
        "\n",
        "# Write down each flavor once for the first candy type\n",
        "for candy in candy_types:\n",
        "  for flavor in flavors:\n",
        "    print(f\"{flavor} {candy}\")\n",
        "\n",
        "  # Once we're done looping through the possible flavors, print a blank line\n",
        "  print()"
      ],
      "metadata": {
        "id": "DihQ0RPUSDdK"
      },
      "execution_count": null,
      "outputs": []
    }
  ]
}